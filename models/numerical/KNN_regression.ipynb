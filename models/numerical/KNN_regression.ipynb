{
 "cells": [
  {
   "cell_type": "code",
   "execution_count": 1,
   "metadata": {},
   "outputs": [
    {
     "name": "stdout",
     "output_type": "stream",
     "text": [
      "all run\n"
     ]
    }
   ],
   "source": [
    "import pandas as pd\n",
    "from sklearn.model_selection import train_test_split\n",
    "from sklearn.neighbors import KNeighborsRegressor\n",
    "from sklearn.metrics import mean_absolute_error, mean_squared_error, r2_score\n",
    "from sklearn.impute import SimpleImputer\n",
    "\n",
    "from sklearn.impute import SimpleImputer\n",
    "import pandas as pd\n",
    "print(\"all run\")"
   ]
  },
  {
   "cell_type": "code",
   "execution_count": 2,
   "metadata": {},
   "outputs": [
    {
     "data": {
      "text/html": [
       "<div>\n",
       "<style scoped>\n",
       "    .dataframe tbody tr th:only-of-type {\n",
       "        vertical-align: middle;\n",
       "    }\n",
       "\n",
       "    .dataframe tbody tr th {\n",
       "        vertical-align: top;\n",
       "    }\n",
       "\n",
       "    .dataframe thead th {\n",
       "        text-align: right;\n",
       "    }\n",
       "</style>\n",
       "<table border=\"1\" class=\"dataframe\">\n",
       "  <thead>\n",
       "    <tr style=\"text-align: right;\">\n",
       "      <th></th>\n",
       "      <th>Location</th>\n",
       "      <th>Year_Built</th>\n",
       "      <th>Price_USD</th>\n",
       "      <th>Bedrooms</th>\n",
       "      <th>Bathrooms</th>\n",
       "      <th>Square_Feet</th>\n",
       "      <th>Street_Type</th>\n",
       "      <th>Price_per_Square_Foot</th>\n",
       "    </tr>\n",
       "  </thead>\n",
       "  <tbody>\n",
       "    <tr>\n",
       "      <th>0</th>\n",
       "      <td>1</td>\n",
       "      <td>1994</td>\n",
       "      <td>739971.84</td>\n",
       "      <td>6</td>\n",
       "      <td>1</td>\n",
       "      <td>5199.27</td>\n",
       "      <td>1</td>\n",
       "      <td>150</td>\n",
       "    </tr>\n",
       "    <tr>\n",
       "      <th>1</th>\n",
       "      <td>3</td>\n",
       "      <td>1941</td>\n",
       "      <td>579540.19</td>\n",
       "      <td>6</td>\n",
       "      <td>1</td>\n",
       "      <td>9173.00</td>\n",
       "      <td>0</td>\n",
       "      <td>200</td>\n",
       "    </tr>\n",
       "    <tr>\n",
       "      <th>2</th>\n",
       "      <td>7</td>\n",
       "      <td>1963</td>\n",
       "      <td>944896.93</td>\n",
       "      <td>3</td>\n",
       "      <td>5</td>\n",
       "      <td>7738.00</td>\n",
       "      <td>4</td>\n",
       "      <td>180</td>\n",
       "    </tr>\n",
       "    <tr>\n",
       "      <th>3</th>\n",
       "      <td>1</td>\n",
       "      <td>1906</td>\n",
       "      <td>998953.18</td>\n",
       "      <td>7</td>\n",
       "      <td>3</td>\n",
       "      <td>7162.00</td>\n",
       "      <td>2</td>\n",
       "      <td>150</td>\n",
       "    </tr>\n",
       "    <tr>\n",
       "      <th>4</th>\n",
       "      <td>4</td>\n",
       "      <td>1960</td>\n",
       "      <td>707713.12</td>\n",
       "      <td>7</td>\n",
       "      <td>5</td>\n",
       "      <td>4076.00</td>\n",
       "      <td>2</td>\n",
       "      <td>120</td>\n",
       "    </tr>\n",
       "  </tbody>\n",
       "</table>\n",
       "</div>"
      ],
      "text/plain": [
       "   Location  Year_Built  Price_USD  Bedrooms  Bathrooms  Square_Feet  \\\n",
       "0         1        1994  739971.84         6          1      5199.27   \n",
       "1         3        1941  579540.19         6          1      9173.00   \n",
       "2         7        1963  944896.93         3          5      7738.00   \n",
       "3         1        1906  998953.18         7          3      7162.00   \n",
       "4         4        1960  707713.12         7          5      4076.00   \n",
       "\n",
       "   Street_Type  Price_per_Square_Foot  \n",
       "0            1                    150  \n",
       "1            0                    200  \n",
       "2            4                    180  \n",
       "3            2                    150  \n",
       "4            2                    120  "
      ]
     },
     "execution_count": 2,
     "metadata": {},
     "output_type": "execute_result"
    }
   ],
   "source": [
    "# df = pd.read_csv(\"../../datasets/numerical/houses_data.csv\")\n",
    "df = pd.read_csv(\"../../datasets/numerical/houses_data(cleaned).csv\")\n",
    "df.head()\n"
   ]
  },
  {
   "cell_type": "code",
   "execution_count": 3,
   "metadata": {},
   "outputs": [
    {
     "name": "stdout",
     "output_type": "stream",
     "text": [
      "   Location  Year_Built  Price_USD  Bedrooms  Bathrooms  Square_Feet  \\\n",
      "0         1        1994  739971.84         6          1      5199.27   \n",
      "1         3        1941  579540.19         6          1      9173.00   \n",
      "2         7        1963  944896.93         3          5      7738.00   \n",
      "3         1        1906  998953.18         7          3      7162.00   \n",
      "4         4        1960  707713.12         7          5      4076.00   \n",
      "\n",
      "   Street_Type  Price_per_Square_Foot  \n",
      "0            1                    150  \n",
      "1            0                    200  \n",
      "2            4                    180  \n",
      "3            2                    150  \n",
      "4            2                    120  \n",
      "<class 'pandas.core.frame.DataFrame'>\n",
      "RangeIndex: 2000 entries, 0 to 1999\n",
      "Data columns (total 8 columns):\n",
      " #   Column                 Non-Null Count  Dtype  \n",
      "---  ------                 --------------  -----  \n",
      " 0   Location               2000 non-null   int64  \n",
      " 1   Year_Built             2000 non-null   int64  \n",
      " 2   Price_USD              2000 non-null   float64\n",
      " 3   Bedrooms               2000 non-null   int64  \n",
      " 4   Bathrooms              2000 non-null   int64  \n",
      " 5   Square_Feet            2000 non-null   float64\n",
      " 6   Street_Type            2000 non-null   int64  \n",
      " 7   Price_per_Square_Foot  2000 non-null   int64  \n",
      "dtypes: float64(2), int64(6)\n",
      "memory usage: 125.1 KB\n",
      "None\n"
     ]
    }
   ],
   "source": [
    "# Basic data exploration\n",
    "# print(\"\\nDataset Info:\")\n",
    "# df.info()\n",
    "\n",
    "# print(\"\\nBasic Statistics:\")\n",
    "# df.describe()\n",
    "\n",
    "print(df.head())\n",
    "print(df.info())  # Check for nulls, column types, etc."
   ]
  },
  {
   "cell_type": "code",
   "execution_count": 4,
   "metadata": {},
   "outputs": [],
   "source": [
    "\n",
    "\n",
    "def preprocess_data(df: pd.DataFrame):\n",
    "      # Target column\n",
    "      target_column = 'Price_USD'  \n",
    "\n",
    "\n",
    "      # Drop rows where target column has NaN\n",
    "      df = df.dropna(subset=[target_column])\n",
    "\n",
    "      # Separate features and target\n",
    "      X = df.drop(columns=[target_column])\n",
    "      y = df[target_column]\n",
    "      print(\"Features shape:\", X.shape)\n",
    "      print(\"Target shape:\", y.shape)\n",
    "\n",
    "      return X, y\n"
   ]
  },
  {
   "cell_type": "code",
   "execution_count": 5,
   "metadata": {},
   "outputs": [
    {
     "name": "stdout",
     "output_type": "stream",
     "text": [
      "Features shape: (2000, 7)\n",
      "Target shape: (2000,)\n",
      "Features shape: (2000, 7)\n",
      "Target shape: (2000,)\n"
     ]
    }
   ],
   "source": [
    "# Check the shapes \n",
    "X, y = preprocess_data(df)\n",
    "\n",
    "\n",
    "print(f\"Features shape: {X.shape}\")\n",
    "print(f\"Target shape: {y.shape}\")"
   ]
  },
  {
   "cell_type": "code",
   "execution_count": 6,
   "metadata": {},
   "outputs": [],
   "source": [
    "# 2. Data Splitting Function\n",
    "def split_data(X, y, test_size=0.2, random_state=42):\n",
    "    return train_test_split(X, y, test_size=test_size, random_state=random_state)"
   ]
  },
  {
   "cell_type": "code",
   "execution_count": 7,
   "metadata": {},
   "outputs": [],
   "source": [
    "#training KNN sec\n",
    "\n",
    "def train_knn_model(X_train, y_train, n_neighbors=5):\n",
    "    model = KNeighborsRegressor(n_neighbors=n_neighbors)\n",
    "    model.fit(X_train, y_train)\n",
    "    return model\n",
    "\n",
    "#prediction Function\n",
    "def predict_knn_model(model, X_test):\n",
    "    return model.predict(X_test)"
   ]
  },
  {
   "cell_type": "code",
   "execution_count": 8,
   "metadata": {},
   "outputs": [],
   "source": [
    "# 5. Metric Calculation Functions\n",
    "def calculate_mae(y_true, y_pred):\n",
    "    return mean_absolute_error(y_true, y_pred)\n",
    "\n",
    "def calculate_mse(y_true, y_pred):\n",
    "    return mean_squared_error(y_true, y_pred)\n",
    "\n",
    "def calculate_rmse(y_true, y_pred):\n",
    "    return mean_squared_error(y_true, y_pred, squared=False)\n",
    "\n",
    "\n",
    "def calculate_r2(y_true, y_pred):\n",
    "    return r2_score(y_true, y_pred)\n",
    "\n",
    "\n",
    "def calculate_mape(y_true, y_pred):\n",
    "    return (abs((y_true - y_pred) / y_true).mean()) * 100\n",
    "\n",
    "\n",
    "def calculate_regression_accuracy(y_true, y_pred, tolerance=0.10):\n",
    "    correct_predictions = sum(abs(y_true - y_pred) <= (tolerance * y_true))\n",
    "    accuracy = (correct_predictions / len(y_true)) * 100\n",
    "    return accuracy"
   ]
  },
  {
   "cell_type": "code",
   "execution_count": 9,
   "metadata": {},
   "outputs": [],
   "source": [
    "def output_train_and_test_data(X_train, X_test, y_train, y_test, y_pred, df):\n",
    "\n",
    "    target_column = 'Price_USD'\n",
    "    train_data = pd.DataFrame(X_train, columns=df.drop(columns=[target_column]).columns)\n",
    "    test_data = pd.DataFrame(X_test, columns=df.drop(columns=[target_column]).columns)\n",
    "\n",
    "    test_data['Actual_Price'] = y_test\n",
    "    test_data['Predicted_Price'] = y_pred\n",
    "    print(test_data )\n",
    "    return train_data, test_data"
   ]
  },
  {
   "cell_type": "code",
   "execution_count": 10,
   "metadata": {},
   "outputs": [],
   "source": [
    "#show summary Of Model stat\n",
    "\n",
    "def show_data(y_test, y_pred):\n",
    "    mae = calculate_mae(y_test, y_pred)\n",
    "    mse = calculate_mse(y_test, y_pred)\n",
    "    rmse = calculate_rmse(y_test, y_pred)\n",
    "    r2 = calculate_r2(y_test, y_pred)\n",
    "    mape = calculate_mape(y_test, y_pred)\n",
    "    accuracy = calculate_regression_accuracy(y_test, y_pred)\n",
    "\n",
    "    print(f\"Mean Absolute Error (MAE): {mae:.2f}\")\n",
    "    print(f\"Mean Squared Error (MSE): {mse:.2f}\")\n",
    "    print(f\"Root Mean Squared Error (RMSE): {rmse:.2f}\")\n",
    "    print(f\"R-squared (R²): {r2:.2f}\")\n",
    "    print(f\"Regression Accuracy within 10% tolerance: {accuracy:.2f}%\")"
   ]
  },
  {
   "cell_type": "code",
   "execution_count": null,
   "metadata": {},
   "outputs": [],
   "source": []
  },
  {
   "cell_type": "code",
   "execution_count": 11,
   "metadata": {},
   "outputs": [],
   "source": [
    "#main Function\n",
    "\n",
    "def start(df: pd.DataFrame):\n",
    "    # MY code\n",
    "    \n",
    "    # Preprocess the data\n",
    "    X, y = preprocess_data(df)\n",
    "\n",
    "    # Split data\n",
    "    X_train, X_test, y_train, y_test = split_data(X, y)\n",
    "\n",
    "    # Train the model\n",
    "    model = train_knn_model(X_train, y_train)\n",
    "\n",
    "    # Make predictions\n",
    "    y_pred = predict_knn_model(model, X_test)\n",
    "\n",
    "    # Summarize performance metrics\n",
    "    show_data(y_test, y_pred)\n",
    "\n",
    "    # Output train and test data\n",
    "    train_data, test_data = output_train_and_test_data(X_train, X_test, y_train, y_test, y_pred, df)\n",
    "    \n",
    "    \n",
    "    \n",
    "    \n",
    "    # return model, Y_test, Y_pred\n",
    "    return model, train_data, test_data\n",
    "    \n"
   ]
  },
  {
   "cell_type": "code",
   "execution_count": 12,
   "metadata": {},
   "outputs": [
    {
     "name": "stdout",
     "output_type": "stream",
     "text": [
      "Features shape: (2000, 7)\n",
      "Target shape: (2000,)\n",
      "Mean Absolute Error (MAE): 259585.79\n",
      "Mean Squared Error (MSE): 94117588691.94\n",
      "Root Mean Squared Error (RMSE): 306785.90\n",
      "R-squared (R²): -0.22\n",
      "Regression Accuracy within 10% tolerance: 11.00%\n",
      "      Location  Year_Built  Bedrooms  Bathrooms  Square_Feet  Street_Type  \\\n",
      "1860         3        1929         1          3        780.0            1   \n",
      "353          2        1922         6          3       2653.0            1   \n",
      "1333         1        1914         7          5       2798.0            1   \n",
      "905          7        1926         1          1       9513.0            4   \n",
      "1289         6        1930         5          1       8129.0            0   \n",
      "...        ...         ...       ...        ...          ...          ...   \n",
      "965          2        2024         2          3       7380.0            4   \n",
      "1284         5        1918         2          1       4362.0            4   \n",
      "1739         6        1993         4          2       6721.0            3   \n",
      "261          3        1962         2          2       7441.0            4   \n",
      "535          5        1921         4          3       6526.0            3   \n",
      "\n",
      "      Price_per_Square_Foot  Actual_Price  Predicted_Price  \n",
      "1860                    200     390350.72       602931.200  \n",
      "353                     180     626959.19       566280.738  \n",
      "1333                    150     523212.12       532712.488  \n",
      "905                     180     896467.49       637862.718  \n",
      "1289                    170     944275.76       380796.678  \n",
      "...                     ...           ...              ...  \n",
      "965                     180     888697.08       655802.208  \n",
      "1284                    130     832234.88       618812.580  \n",
      "1739                    170     221679.23       194752.898  \n",
      "261                     200     112483.79       453751.620  \n",
      "535                     130     245486.76       505381.510  \n",
      "\n",
      "[400 rows x 9 columns]\n"
     ]
    }
   ],
   "source": [
    "#Output\n",
    "model, train_data, test_data = start(df)\n"
   ]
  }
 ],
 "metadata": {
  "kernelspec": {
   "display_name": "Python 3",
   "language": "python",
   "name": "python3"
  },
  "language_info": {
   "codemirror_mode": {
    "name": "ipython",
    "version": 3
   },
   "file_extension": ".py",
   "mimetype": "text/x-python",
   "name": "python",
   "nbconvert_exporter": "python",
   "pygments_lexer": "ipython3",
   "version": "3.12.1"
  }
 },
 "nbformat": 4,
 "nbformat_minor": 2
}
